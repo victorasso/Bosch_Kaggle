{
  "nbformat": 4,
  "nbformat_minor": 0,
  "metadata": {
    "colab": {
      "name": "crawler_ajax.ipynb",
      "provenance": [],
      "collapsed_sections": [],
      "authorship_tag": "ABX9TyPrMe0emDPajA3QbUHL8W9b",
      "include_colab_link": true
    },
    "kernelspec": {
      "name": "python3",
      "display_name": "Python 3"
    },
    "language_info": {
      "name": "python"
    }
  },
  "cells": [
    {
      "cell_type": "markdown",
      "metadata": {
        "id": "view-in-github",
        "colab_type": "text"
      },
      "source": [
        "<a href=\"https://colab.research.google.com/github/victorasso/Bosch_Kaggle/blob/master/notebooks/011-lv-dataset-builder-wikipedia.ipynb\" target=\"_parent\"><img src=\"https://colab.research.google.com/assets/colab-badge.svg\" alt=\"Open In Colab\"/></a>"
      ]
    },
    {
      "cell_type": "markdown",
      "source": [
        "# Ajax Crawler\n",
        "\n",
        "Crawl the GUI for yearly trends information, this pipeline is able to get a list of queries and return a temporal dataframe with the following content types:\n",
        "\n",
        "* Patents\n",
        "* Papers\n",
        "* Projects\n",
        "* Grants"
      ],
      "metadata": {
        "id": "7itCsZfChGru"
      }
    },
    {
      "cell_type": "code",
      "metadata": {
        "colab": {
          "base_uri": "https://localhost:8080/"
        },
        "id": "dnFueS02VGnH",
        "outputId": "75c3704f-4be4-4721-a64b-8f181241ef0c"
      },
      "source": [
        "from google.colab import drive\n",
        "drive.mount('/content/drive')\n",
        "!rm -rf sample_data"
      ],
      "execution_count": 100,
      "outputs": [
        {
          "output_type": "stream",
          "name": "stdout",
          "text": [
            "Drive already mounted at /content/drive; to attempt to forcibly remount, call drive.mount(\"/content/drive\", force_remount=True).\n"
          ]
        }
      ]
    },
    {
      "cell_type": "code",
      "metadata": {
        "id": "szKYaoAhSXUL"
      },
      "source": [
        "import json\n",
        "import glob\n",
        "import requests\n",
        "import numpy as np\n",
        "import pandas as pd\n",
        "from tqdm import tqdm\n",
        "from random import sample\n",
        "import matplotlib.pyplot as plt\n",
        "from sklearn.preprocessing import MinMaxScaler"
      ],
      "execution_count": 101,
      "outputs": []
    },
    {
      "cell_type": "markdown",
      "metadata": {
        "id": "4BMGIYptVcKA"
      },
      "source": [
        "# Helper functions\n",
        "\n",
        "All custom functions used in this notebook are located here"
      ]
    },
    {
      "cell_type": "code",
      "metadata": {
        "id": "zjULOWcCVXfe"
      },
      "source": [
        "#take content_type from col\n",
        "def take_content_type(s):\n",
        "  return s.split(' ')[0]\n",
        "\n",
        "#take search_type from col\n",
        "def take_search_type(s):\n",
        "  return ' '.join(s.split(' ')[1:])\n",
        "\n",
        "# get GUI auth token\n",
        "def get_auth_token(user, password):\n",
        "  url = \"https://app.wheesbee.eu/api/w2/jwt/login.ajax\"\n",
        "\n",
        "  payload = json.dumps({\n",
        "    \"username\": user,\n",
        "    \"password\": password\n",
        "  })\n",
        "  headers = {\n",
        "    'Content-Type': 'application/json'\n",
        "  }\n",
        "\n",
        "  response = requests.request(\"POST\", url, headers = headers, data = payload)\n",
        "  #print(response.text)\n",
        "  token = response.json()['token']\n",
        "\n",
        "  return token\n",
        "\n",
        "# get query count by year dataframe\n",
        "def get_query_count_by_year(query, content_type, token):\n",
        "\n",
        "  url = f\"https://app.wheesbee.eu/api/w2/analysis/{content_type}/trend.ajax\"\n",
        "\n",
        "  payload = json.dumps({\n",
        "    \"term\": query\n",
        "  })\n",
        "  headers = {\n",
        "    'Authorization': f'Bearer {token}',\n",
        "    'Content-Type': 'application/json'\n",
        "  }\n",
        "\n",
        "  response = requests.request(\"POST\", url, headers = headers, data = payload)\n",
        "\n",
        "  # unpack json to dataframe\n",
        "  df = pd.DataFrame(response.json()['result'][0]['result'])\n",
        "  df['content_type'] = content_type\n",
        "  df['query'] = query\n",
        "\n",
        "  return df\n",
        "\n",
        "# special case to get grants for a query\n",
        "def get_grants_query_count_by_year(query, token):\n",
        "  url = f\"https://app.wheesbee.eu/api/w2/search/grant/search-lite.ajax\"\n",
        "\n",
        "  payload = json.dumps({\n",
        "    \"term\": query,\n",
        "    \"size\": 500\n",
        "  })\n",
        "  headers = {\n",
        "    'Authorization': f'Bearer {token}',\n",
        "    'Content-Type': 'application/json'\n",
        "  }\n",
        "\n",
        "  response = requests.request(\"POST\", url, headers = headers, data = payload)\n",
        "\n",
        "\n",
        "  deadline_dates = []\n",
        "\n",
        "  for res in response.json()['foundItems']:\n",
        "    deadline_dates.append(res['deadlineDate'])\n",
        "\n",
        "  df = pd.DataFrame(deadline_dates, columns=['deadlineDate'])\n",
        "  df['deadlineDate'] = pd.DatetimeIndex(df['deadlineDate']).year\n",
        "\n",
        "  df = pd.DataFrame(df.groupby(by = 'deadlineDate').size(), columns=['count']).reset_index()\n",
        "  df = df.rename(columns={'deadlineDate': 'label'})\n",
        "\n",
        "\n",
        "  df['content_type'] = 'grants'\n",
        "  df['query'] = query\n",
        "\n",
        "  return df\n",
        "\n",
        "# combine all crawlers into a dataframe\n",
        "def get_full_df(queries):\n",
        "\n",
        "  dfs = []\n",
        "  #this loop will get grants\n",
        "  for query in tqdm(queries):\n",
        "    df = get_grants_query_count_by_year(query, token)\n",
        "    dfs.append(df)\n",
        "\n",
        "  content_types = ['patent','project', 'technicalpaper']\n",
        "\n",
        "  # this loop will create patents, projects and papers\n",
        "  for content_type in content_types:\n",
        "    for query in tqdm(queries):\n",
        "      df = get_query_count_by_year(query, content_type, token)\n",
        "      dfs.append(df)\n",
        "\n",
        "  result_df = pd.concat(dfs)\n",
        "  result_df = result_df.rename(columns={'label': 'year'})\n",
        "  result_df['count'] = result_df['count'].astype(int)\n",
        "  result_df['year'] = result_df['year'].astype(int)\n",
        "  result_df = pd.pivot_table(result_df, index=['year', 'query'], columns='content_type', values='count').reset_index().sort_values(by=['query','year'])\n",
        "  return result_df\n",
        "\n",
        "# apply minmaxscaler\n",
        "def scale(X):\n",
        "    scaler = MinMaxScaler()\n",
        "    X_ = np.atleast_2d(X)\n",
        "    return pd.DataFrame(scaler.fit_transform(X_), X.index)\n",
        "\n",
        "# add minMaxScaler to df (query-wise)\n",
        "def add_min_max_scale_to_df(df):\n",
        "\n",
        "  scaled_df = df.copy().fillna(0)\n",
        "\n",
        "  scaler = MinMaxScaler()\n",
        "  cols = scaled_df.columns[2:]\n",
        "\n",
        "  scaled_df[cols+'_scaled'] = scaled_df.groupby(['query'])[cols].apply(scale)\n",
        "  return scaled_df\n",
        "\n",
        "# load sample queries provided by email\n",
        "def load_query_files(files):\n",
        "\n",
        "  # merge both files\n",
        "  dfs = []\n",
        "  for file in files:\n",
        "    print(file)\n",
        "    df = pd.read_excel(file, skiprows=4)\n",
        "    dfs.append(df)\n",
        "  df = pd.concat(dfs)\n",
        "\n",
        "  # drop null queries\n",
        "  df = df[~df['Query'].isna()]\n",
        "  \n",
        "  # remove queries without hits\n",
        "  df = df[~(df['# of results'] == 0)]\n",
        "\n",
        "  # remove duplicated Query per Kind\n",
        "  df = df.drop_duplicates(subset = ['Query'])\n",
        "\n",
        "  # calculate target url\n",
        "  df['Content_type'] = df['Kind'].apply(take_content_type)\n",
        "  df['Search_type'] = df['Kind'].apply(take_search_type)\n",
        "\n",
        "  # filter only Projects and Patents Content_type\n",
        "  #df = df[df['Content_type'].isin(['Projects','Patents'])]\n",
        "\n",
        "  return df"
      ],
      "execution_count": 181,
      "outputs": []
    },
    {
      "cell_type": "markdown",
      "source": [
        "# Queries\n",
        "\n",
        "Here are the queries that will be used to construct the dataset, it is equivalent to use those queries in the wheesbee GUI"
      ],
      "metadata": {
        "id": "WOkNgKlNdFp7"
      }
    },
    {
      "cell_type": "code",
      "source": [
        "# files = sorted(glob.glob('/content/drive/MyDrive/PISCHOOL/company*_queries.xlsx'))\n",
        "# queries_df = load_query_files(files)\n",
        "# queries = queries_df['Query'].unique().tolist()\n",
        "# queries"
      ],
      "metadata": {
        "id": "zgkn_JqIW33d"
      },
      "execution_count": 20,
      "outputs": []
    },
    {
      "cell_type": "code",
      "source": [
        "import bs4 as bs\n",
        "import urllib.request\n",
        "\n",
        "source = urllib.request.urlopen('https://en.m.wikipedia.org/wiki/List_of_emerging_technologies').read()\n",
        "soup = bs.BeautifulSoup(source,'html')"
      ],
      "metadata": {
        "id": "K4X7GmjYxisx"
      },
      "execution_count": 129,
      "outputs": []
    },
    {
      "cell_type": "code",
      "source": [
        "tables = soup.find_all(\"table\",{\"class\":\"wikitable sortable\"})\n",
        "\n",
        "queries = []\n",
        "for table in tables:\n",
        "  for tr in table.find_all('tr'):\n",
        "    for a in tr.find_all('a'):\n",
        "\n",
        "      title = a.get('title')\n",
        "      if title != None:\n",
        "        queries.append(title)\n",
        "\n",
        "queries.remove('Wikipedia:Citation needed') # remove error\n",
        "queries.remove('CPP/GMR (page does not exist)') # remove error\n",
        "queries.remove('Disabled') # remove error\n",
        "queries.remove('Communication') # remove error\n",
        "\n",
        "for i, q in enumerate(queries):\n",
        "  q = q.replace('(page does not exist)','')\n",
        "  q = q.lower()\n",
        "  queries[i] = q\n",
        "\n",
        "queries = list(set(queries))\n",
        "\n",
        "print('queries found: {}'.format(len(queries)))\n",
        "#display(queries)"
      ],
      "metadata": {
        "id": "G8b117mN_NP0",
        "outputId": "f6e28988-c1ac-4263-af4e-4ed20b079d50",
        "colab": {
          "base_uri": "https://localhost:8080/"
        }
      },
      "execution_count": 182,
      "outputs": [
        {
          "output_type": "stream",
          "name": "stdout",
          "text": [
            "queries found: 549\n"
          ]
        }
      ]
    },
    {
      "cell_type": "markdown",
      "source": [
        "# auth\n",
        "\n",
        "The following code is responsible for authenticating the user into wheesbee platform GUI, it will be used to take the total counts from different ajax calls"
      ],
      "metadata": {
        "id": "TfAitVwedU7P"
      }
    },
    {
      "cell_type": "code",
      "metadata": {
        "id": "-z2mVBQOaoxh"
      },
      "source": [
        "auth = ('lucas.victorasso@picampus-school.com', 'Wheesbee.21!')\n",
        "token = get_auth_token(*auth)"
      ],
      "execution_count": 157,
      "outputs": []
    },
    {
      "cell_type": "markdown",
      "source": [
        "# crawl ajax\n",
        "\n",
        "Call the function to get all counts from each data type, returns a dataframe as below"
      ],
      "metadata": {
        "id": "uV0jUYyceGx-"
      }
    },
    {
      "cell_type": "code",
      "metadata": {
        "colab": {
          "base_uri": "https://localhost:8080/",
          "height": 493
        },
        "id": "V0Z2snVBcc8A",
        "outputId": "a137cf4a-57bb-46d2-f480-967b925e0db0"
      },
      "source": [
        "df = get_full_df(queries)\n",
        "display(df)"
      ],
      "execution_count": 184,
      "outputs": [
        {
          "output_type": "stream",
          "name": "stderr",
          "text": [
            "100%|██████████| 549/549 [06:14<00:00,  1.47it/s]\n",
            "100%|██████████| 549/549 [08:48<00:00,  1.04it/s]\n",
            "100%|██████████| 549/549 [03:19<00:00,  2.76it/s]\n",
            "100%|██████████| 549/549 [48:51<00:00,  5.34s/it]\n"
          ]
        },
        {
          "output_type": "display_data",
          "data": {
            "text/html": [
              "<div>\n",
              "<style scoped>\n",
              "    .dataframe tbody tr th:only-of-type {\n",
              "        vertical-align: middle;\n",
              "    }\n",
              "\n",
              "    .dataframe tbody tr th {\n",
              "        vertical-align: top;\n",
              "    }\n",
              "\n",
              "    .dataframe thead th {\n",
              "        text-align: right;\n",
              "    }\n",
              "</style>\n",
              "<table border=\"1\" class=\"dataframe\">\n",
              "  <thead>\n",
              "    <tr style=\"text-align: right;\">\n",
              "      <th>content_type</th>\n",
              "      <th>year</th>\n",
              "      <th>query</th>\n",
              "      <th>grants</th>\n",
              "      <th>patent</th>\n",
              "      <th>project</th>\n",
              "      <th>technicalpaper</th>\n",
              "    </tr>\n",
              "  </thead>\n",
              "  <tbody>\n",
              "    <tr>\n",
              "      <th>406</th>\n",
              "      <td>1902</td>\n",
              "      <td>3d optical data storage</td>\n",
              "      <td>NaN</td>\n",
              "      <td>NaN</td>\n",
              "      <td>NaN</td>\n",
              "      <td>1.0</td>\n",
              "    </tr>\n",
              "    <tr>\n",
              "      <th>1025</th>\n",
              "      <td>1905</td>\n",
              "      <td>3d optical data storage</td>\n",
              "      <td>NaN</td>\n",
              "      <td>NaN</td>\n",
              "      <td>NaN</td>\n",
              "      <td>1.0</td>\n",
              "    </tr>\n",
              "    <tr>\n",
              "      <th>1248</th>\n",
              "      <td>1906</td>\n",
              "      <td>3d optical data storage</td>\n",
              "      <td>NaN</td>\n",
              "      <td>NaN</td>\n",
              "      <td>NaN</td>\n",
              "      <td>1.0</td>\n",
              "    </tr>\n",
              "    <tr>\n",
              "      <th>2780</th>\n",
              "      <td>1913</td>\n",
              "      <td>3d optical data storage</td>\n",
              "      <td>NaN</td>\n",
              "      <td>NaN</td>\n",
              "      <td>NaN</td>\n",
              "      <td>1.0</td>\n",
              "    </tr>\n",
              "    <tr>\n",
              "      <th>3006</th>\n",
              "      <td>1914</td>\n",
              "      <td>3d optical data storage</td>\n",
              "      <td>NaN</td>\n",
              "      <td>NaN</td>\n",
              "      <td>NaN</td>\n",
              "      <td>3.0</td>\n",
              "    </tr>\n",
              "    <tr>\n",
              "      <th>...</th>\n",
              "      <td>...</td>\n",
              "      <td>...</td>\n",
              "      <td>...</td>\n",
              "      <td>...</td>\n",
              "      <td>...</td>\n",
              "      <td>...</td>\n",
              "    </tr>\n",
              "    <tr>\n",
              "      <th>42307</th>\n",
              "      <td>2018</td>\n",
              "      <td>zero-energy building</td>\n",
              "      <td>NaN</td>\n",
              "      <td>289.0</td>\n",
              "      <td>20.0</td>\n",
              "      <td>528.0</td>\n",
              "    </tr>\n",
              "    <tr>\n",
              "      <th>42830</th>\n",
              "      <td>2019</td>\n",
              "      <td>zero-energy building</td>\n",
              "      <td>NaN</td>\n",
              "      <td>343.0</td>\n",
              "      <td>18.0</td>\n",
              "      <td>49.0</td>\n",
              "    </tr>\n",
              "    <tr>\n",
              "      <th>43350</th>\n",
              "      <td>2020</td>\n",
              "      <td>zero-energy building</td>\n",
              "      <td>NaN</td>\n",
              "      <td>202.0</td>\n",
              "      <td>24.0</td>\n",
              "      <td>NaN</td>\n",
              "    </tr>\n",
              "    <tr>\n",
              "      <th>43722</th>\n",
              "      <td>2021</td>\n",
              "      <td>zero-energy building</td>\n",
              "      <td>1.0</td>\n",
              "      <td>NaN</td>\n",
              "      <td>5.0</td>\n",
              "      <td>NaN</td>\n",
              "    </tr>\n",
              "    <tr>\n",
              "      <th>43910</th>\n",
              "      <td>2022</td>\n",
              "      <td>zero-energy building</td>\n",
              "      <td>3.0</td>\n",
              "      <td>NaN</td>\n",
              "      <td>2.0</td>\n",
              "      <td>NaN</td>\n",
              "    </tr>\n",
              "  </tbody>\n",
              "</table>\n",
              "<p>43951 rows × 6 columns</p>\n",
              "</div>"
            ],
            "text/plain": [
              "content_type  year                    query  ...  project  technicalpaper\n",
              "406           1902  3d optical data storage  ...      NaN             1.0\n",
              "1025          1905  3d optical data storage  ...      NaN             1.0\n",
              "1248          1906  3d optical data storage  ...      NaN             1.0\n",
              "2780          1913  3d optical data storage  ...      NaN             1.0\n",
              "3006          1914  3d optical data storage  ...      NaN             3.0\n",
              "...            ...                      ...  ...      ...             ...\n",
              "42307         2018     zero-energy building  ...     20.0           528.0\n",
              "42830         2019     zero-energy building  ...     18.0            49.0\n",
              "43350         2020     zero-energy building  ...     24.0             NaN\n",
              "43722         2021     zero-energy building  ...      5.0             NaN\n",
              "43910         2022     zero-energy building  ...      2.0             NaN\n",
              "\n",
              "[43951 rows x 6 columns]"
            ]
          },
          "metadata": {}
        }
      ]
    },
    {
      "cell_type": "code",
      "source": [
        "plt.rcParams[\"figure.figsize\"] = (25,3)\n",
        "\n",
        "for q in sample(queries, 1):\n",
        "  df[df['query'] == q].plot(x = 'year', title = q)"
      ],
      "metadata": {
        "colab": {
          "base_uri": "https://localhost:8080/",
          "height": 241
        },
        "id": "2BkUMChetZ8t",
        "outputId": "4411d54a-e468-489e-fdd1-c3c3bfd67021"
      },
      "execution_count": 185,
      "outputs": [
        {
          "output_type": "display_data",
          "data": {
            "image/png": "[encoded data removed]",
            "text/plain": [
              "<Figure size 1800x216 with 1 Axes>"
            ]
          },
          "metadata": {
            "needs_background": "light"
          }
        }
      ]
    },
    {
      "cell_type": "code",
      "source": [
        "df.to_csv('/content/drive/MyDrive/PISCHOOL/queries_wiki_dataset.csv', index=False)"
      ],
      "metadata": {
        "id": "DORupxTy4uf7"
      },
      "execution_count": 186,
      "outputs": []
    },
    {
      "cell_type": "code",
      "metadata": {
        "id": "38m_ZOcnUANf"
      },
      "source": [
        "\n",
        "\n",
        "\n",
        "\n",
        "\n",
        "\n",
        "\n",
        "\n",
        "\n",
        "\n",
        "\n",
        "\n",
        "\n",
        "\n",
        "\n",
        "\n",
        "\n",
        "\n"
      ],
      "execution_count": null,
      "outputs": []
    }
  ]
}