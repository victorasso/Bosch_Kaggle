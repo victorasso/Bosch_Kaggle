{
  "cells": [
    {
      "cell_type": "markdown",
      "metadata": {
        "id": "view-in-github",
        "colab_type": "text"
      },
      "source": [
        "<a href=\"https://colab.research.google.com/github/victorasso/Bosch_Kaggle/blob/master/notebooks/022_lv_normalization_totals.ipynb\" target=\"_parent\"><img src=\"https://colab.research.google.com/assets/colab-badge.svg\" alt=\"Open In Colab\"/></a>"
      ]
    },
    {
      "cell_type": "markdown",
      "metadata": {
        "id": "7ok6c3Exc2hS"
      },
      "source": [
        "# Config"
      ]
    },
    {
      "cell_type": "code",
      "execution_count": null,
      "metadata": {
        "id": "hqZcbYeMc12v"
      },
      "outputs": [],
      "source": [
        "# fields = [ # blank will get everything from the core\n",
        "#           'start_date', 'deadline_date', 'creation_date', 'last_modified_date', # dates in grants\n",
        "#           'end_date', 'start_date', 'publish_date', 'creation_date', 'last_modified_date', # dates in projects\n",
        "#           'docdb_date', 'epodoc_date', 'publication_date', 'priority_claim_date', 'application_date', 'last_update_date', 'date_of_last_exchange' #dates in all patents cores\n",
        "#           ] \n",
        "\n",
        "# http://35.223.230.190:8983/solr/grants_ip2/select?indent=on&q=nanotechnology&wt=json # grants_ip2\n",
        "# http://35.223.230.190:8983/solr/funded_projects_marvin/select?indent=on&q={q}&wt=json # funded_projects_marvin\n",
        "# http://35.223.230.190:8983/solr/patents-ep/select?indent=on&q=nanotechnology&wt=json # patents-ep\n",
        "# http://35.223.230.190:8983/solr/patents-other/select?indent=on&q=nanotechnology&wt=json # patents-other\n",
        "# http://35.223.230.190:8983/solr/patents-pc/select?indent=on&q=nanotechnology&wt=json # patents-pc"
      ]
    },
    {
      "cell_type": "code",
      "execution_count": null,
      "metadata": {
        "id": "maoMb7ffMTdk"
      },
      "outputs": [],
      "source": [
        "import requests\n",
        "import warnings\n",
        "import numpy as np\n",
        "import pandas as pd\n",
        "from tqdm import tqdm\n",
        "import matplotlib.pyplot as plt\n",
        "from requests.auth import HTTPBasicAuth\n",
        "\n",
        "warnings.filterwarnings('ignore')\n",
        "\n",
        "usr, pwd = 'picampus', 'a!5chool.2021'"
      ]
    },
    {
      "cell_type": "markdown",
      "metadata": {
        "id": "7lHeKreGnuYz"
      },
      "source": [
        "# Helper functions"
      ]
    },
    {
      "cell_type": "code",
      "execution_count": null,
      "metadata": {
        "id": "3pmC00cIMy9A"
      },
      "outputs": [],
      "source": [
        "def get_query_count(q, dataset):\n",
        "  url = f'http://35.223.230.190:8983/solr/{dataset}/select?indent=on&q={q}&rows=0&wt=json'\n",
        "  r = requests.get(url, auth=HTTPBasicAuth(usr, pwd))\n",
        "  result = r.json()\n",
        "  return result['response']['numFound']\n",
        "\n",
        "\n",
        "def get_documents(q, dataset):\n",
        "  total_documents = get_query_count(q, dataset)\n",
        "\n",
        "  url = f'http://35.223.230.190:8983/solr/{dataset}/select?indent=on&q={q}&fl={fields}&rows={total_documents}&wt=json'\n",
        "  r = requests.get(url, auth=HTTPBasicAuth(usr, pwd))\n",
        "\n",
        "  result = r.json()\n",
        "  result = result['response']['docs']\n",
        "  \n",
        "  results = []\n",
        "  for r in result:\n",
        "    results.append(r)\n",
        "\n",
        "  return results"
      ]
    },
    {
      "cell_type": "markdown",
      "metadata": {
        "id": "28b7efIcbnK4"
      },
      "source": [
        "# Dataset buildier\n",
        "\n",
        "For any query, this will return the monthly document counts across all cores"
      ]
    },
    {
      "cell_type": "markdown",
      "metadata": {
        "id": "Ky14cREKo9uc"
      },
      "source": [
        "## Get the monthly document counts"
      ]
    },
    {
      "cell_type": "code",
      "execution_count": null,
      "metadata": {
        "id": "A6AfWGvEpBY-"
      },
      "outputs": [],
      "source": [
        "def get_montlhy_documents(q, dataset):\n",
        "  result = get_documents(q, dataset)\n",
        "  df = pd.DataFrame(result)\n",
        "  df.columns = ['date']\n",
        "\n",
        "  df = df.dropna()\n",
        "  df['date'] = pd.to_datetime(df['date'])\n",
        "\n",
        "  df = pd.DataFrame(df['date'].groupby(df.date.dt.to_period(\"M\")).size().rename(f'{dataset}_documents'))\n",
        "\n",
        "  return df\n",
        "\n",
        "def get_monthly_all_cores(q):\n",
        "\n",
        "  dfs = []\n",
        "  for dataset in datasets:\n",
        "    for core in datasets[dataset]:\n",
        "      dfs.append(get_montlhy_documents(q, core))\n",
        "\n",
        "  df = pd.concat(dfs, axis=1)\n",
        "  #df = df.fillna(0)\n",
        "  df['query'] = q\n",
        "  return df"
      ]
    },
    {
      "cell_type": "code",
      "execution_count": null,
      "metadata": {
        "id": "LdfHdVvGohHV"
      },
      "outputs": [],
      "source": [
        "# parameters\n",
        "\n",
        "# fields to extract, all dates are in the config section\n",
        "fields = [ # blank will get everything from the core\n",
        "          'deadline_date', # dates in grants\n",
        "          'publish_date',  # dates in projects\n",
        "          'publication_date', #dates in all patents cores\n",
        "          'date_published' # dates in the papers core\n",
        "          ] \n",
        "\n",
        "fields = ','.join(fields)\n",
        "\n",
        "# dataset and solr core paths\n",
        "datasets = {\n",
        "    'grants': ['grants_ip2'],\n",
        "    'projects': ['funded_projects_marvin'],\n",
        "    'patents': ['patents-ep', 'patents-other', 'patents-pc'],\n",
        "    'papers': ['lens_papers']\n",
        "    }"
      ]
    },
    {
      "cell_type": "code",
      "execution_count": null,
      "metadata": {
        "colab": {
          "base_uri": "https://localhost:8080/",
          "height": 851
        },
        "id": "UCXX9cjwlv7p",
        "outputId": "c7c404b4-126a-4a2e-f11f-4651ad22c639"
      },
      "outputs": [
        {
          "output_type": "display_data",
          "data": {
            "text/html": [
              "\n",
              "  <div id=\"df-15bdf3c9-5faf-42ab-92d7-2196bcdcb72e\">\n",
              "    <div class=\"colab-df-container\">\n",
              "      <div>\n",
              "<style scoped>\n",
              "    .dataframe tbody tr th:only-of-type {\n",
              "        vertical-align: middle;\n",
              "    }\n",
              "\n",
              "    .dataframe tbody tr th {\n",
              "        vertical-align: top;\n",
              "    }\n",
              "\n",
              "    .dataframe thead th {\n",
              "        text-align: right;\n",
              "    }\n",
              "</style>\n",
              "<table border=\"1\" class=\"dataframe\">\n",
              "  <thead>\n",
              "    <tr style=\"text-align: right;\">\n",
              "      <th></th>\n",
              "      <th>grants_ip2_documents</th>\n",
              "      <th>funded_projects_marvin_documents</th>\n",
              "      <th>patents-ep_documents</th>\n",
              "      <th>patents-other_documents</th>\n",
              "      <th>patents-pc_documents</th>\n",
              "      <th>lens_papers_documents</th>\n",
              "      <th>query</th>\n",
              "    </tr>\n",
              "    <tr>\n",
              "      <th>date</th>\n",
              "      <th></th>\n",
              "      <th></th>\n",
              "      <th></th>\n",
              "      <th></th>\n",
              "      <th></th>\n",
              "      <th></th>\n",
              "      <th></th>\n",
              "    </tr>\n",
              "  </thead>\n",
              "  <tbody>\n",
              "    <tr>\n",
              "      <th>1988-03</th>\n",
              "      <td>NaN</td>\n",
              "      <td>NaN</td>\n",
              "      <td>NaN</td>\n",
              "      <td>1.0</td>\n",
              "      <td>NaN</td>\n",
              "      <td>NaN</td>\n",
              "      <td>nanotechnology</td>\n",
              "    </tr>\n",
              "    <tr>\n",
              "      <th>1991-10</th>\n",
              "      <td>NaN</td>\n",
              "      <td>NaN</td>\n",
              "      <td>NaN</td>\n",
              "      <td>1.0</td>\n",
              "      <td>NaN</td>\n",
              "      <td>NaN</td>\n",
              "      <td>nanotechnology</td>\n",
              "    </tr>\n",
              "    <tr>\n",
              "      <th>1992-03</th>\n",
              "      <td>NaN</td>\n",
              "      <td>NaN</td>\n",
              "      <td>NaN</td>\n",
              "      <td>1.0</td>\n",
              "      <td>NaN</td>\n",
              "      <td>NaN</td>\n",
              "      <td>nanotechnology</td>\n",
              "    </tr>\n",
              "    <tr>\n",
              "      <th>1992-07</th>\n",
              "      <td>NaN</td>\n",
              "      <td>NaN</td>\n",
              "      <td>NaN</td>\n",
              "      <td>NaN</td>\n",
              "      <td>1.0</td>\n",
              "      <td>NaN</td>\n",
              "      <td>nanotechnology</td>\n",
              "    </tr>\n",
              "    <tr>\n",
              "      <th>1992-08</th>\n",
              "      <td>NaN</td>\n",
              "      <td>NaN</td>\n",
              "      <td>NaN</td>\n",
              "      <td>NaN</td>\n",
              "      <td>1.0</td>\n",
              "      <td>NaN</td>\n",
              "      <td>nanotechnology</td>\n",
              "    </tr>\n",
              "    <tr>\n",
              "      <th>...</th>\n",
              "      <td>...</td>\n",
              "      <td>...</td>\n",
              "      <td>...</td>\n",
              "      <td>...</td>\n",
              "      <td>...</td>\n",
              "      <td>...</td>\n",
              "      <td>...</td>\n",
              "    </tr>\n",
              "    <tr>\n",
              "      <th>2021-07</th>\n",
              "      <td>2.0</td>\n",
              "      <td>NaN</td>\n",
              "      <td>NaN</td>\n",
              "      <td>NaN</td>\n",
              "      <td>NaN</td>\n",
              "      <td>8.0</td>\n",
              "      <td>nanotechnology</td>\n",
              "    </tr>\n",
              "    <tr>\n",
              "      <th>2021-09</th>\n",
              "      <td>3.0</td>\n",
              "      <td>NaN</td>\n",
              "      <td>NaN</td>\n",
              "      <td>NaN</td>\n",
              "      <td>NaN</td>\n",
              "      <td>NaN</td>\n",
              "      <td>nanotechnology</td>\n",
              "    </tr>\n",
              "    <tr>\n",
              "      <th>2022-12</th>\n",
              "      <td>1.0</td>\n",
              "      <td>NaN</td>\n",
              "      <td>NaN</td>\n",
              "      <td>NaN</td>\n",
              "      <td>NaN</td>\n",
              "      <td>NaN</td>\n",
              "      <td>nanotechnology</td>\n",
              "    </tr>\n",
              "    <tr>\n",
              "      <th>2024-12</th>\n",
              "      <td>2.0</td>\n",
              "      <td>NaN</td>\n",
              "      <td>NaN</td>\n",
              "      <td>NaN</td>\n",
              "      <td>NaN</td>\n",
              "      <td>NaN</td>\n",
              "      <td>nanotechnology</td>\n",
              "    </tr>\n",
              "    <tr>\n",
              "      <th>2025-12</th>\n",
              "      <td>3.0</td>\n",
              "      <td>NaN</td>\n",
              "      <td>NaN</td>\n",
              "      <td>NaN</td>\n",
              "      <td>NaN</td>\n",
              "      <td>NaN</td>\n",
              "      <td>nanotechnology</td>\n",
              "    </tr>\n",
              "  </tbody>\n",
              "</table>\n",
              "<p>322 rows × 7 columns</p>\n",
              "</div>\n",
              "      <button class=\"colab-df-convert\" onclick=\"convertToInteractive('df-15bdf3c9-5faf-42ab-92d7-2196bcdcb72e')\"\n",
              "              title=\"Convert this dataframe to an interactive table.\"\n",
              "              style=\"display:none;\">\n",
              "        \n",
              "  <svg xmlns=\"http://www.w3.org/2000/svg\" height=\"24px\"viewBox=\"0 0 24 24\"\n",
              "       width=\"24px\">\n",
              "    <path d=\"M0 0h24v24H0V0z\" fill=\"none\"/>\n",
              "    <path d=\"M18.56 5.44l.94 2.06.94-2.06 2.06-.94-2.06-.94-.94-2.06-.94 2.06-2.06.94zm-11 1L8.5 8.5l.94-2.06 2.06-.94-2.06-.94L8.5 2.5l-.94 2.06-2.06.94zm10 10l.94 2.06.94-2.06 2.06-.94-2.06-.94-.94-2.06-.94 2.06-2.06.94z\"/><path d=\"M17.41 7.96l-1.37-1.37c-.4-.4-.92-.59-1.43-.59-.52 0-1.04.2-1.43.59L10.3 9.45l-7.72 7.72c-.78.78-.78 2.05 0 2.83L4 21.41c.39.39.9.59 1.41.59.51 0 1.02-.2 1.41-.59l7.78-7.78 2.81-2.81c.8-.78.8-2.07 0-2.86zM5.41 20L4 18.59l7.72-7.72 1.47 1.35L5.41 20z\"/>\n",
              "  </svg>\n",
              "      </button>\n",
              "      \n",
              "  <style>\n",
              "    .colab-df-container {\n",
              "      display:flex;\n",
              "      flex-wrap:wrap;\n",
              "      gap: 12px;\n",
              "    }\n",
              "\n",
              "    .colab-df-convert {\n",
              "      background-color: #E8F0FE;\n",
              "      border: none;\n",
              "      border-radius: 50%;\n",
              "      cursor: pointer;\n",
              "      display: none;\n",
              "      fill: #1967D2;\n",
              "      height: 32px;\n",
              "      padding: 0 0 0 0;\n",
              "      width: 32px;\n",
              "    }\n",
              "\n",
              "    .colab-df-convert:hover {\n",
              "      background-color: #E2EBFA;\n",
              "      box-shadow: 0px 1px 2px rgba(60, 64, 67, 0.3), 0px 1px 3px 1px rgba(60, 64, 67, 0.15);\n",
              "      fill: #174EA6;\n",
              "    }\n",
              "\n",
              "    [theme=dark] .colab-df-convert {\n",
              "      background-color: #3B4455;\n",
              "      fill: #D2E3FC;\n",
              "    }\n",
              "\n",
              "    [theme=dark] .colab-df-convert:hover {\n",
              "      background-color: #434B5C;\n",
              "      box-shadow: 0px 1px 3px 1px rgba(0, 0, 0, 0.15);\n",
              "      filter: drop-shadow(0px 1px 2px rgba(0, 0, 0, 0.3));\n",
              "      fill: #FFFFFF;\n",
              "    }\n",
              "  </style>\n",
              "\n",
              "      <script>\n",
              "        const buttonEl =\n",
              "          document.querySelector('#df-15bdf3c9-5faf-42ab-92d7-2196bcdcb72e button.colab-df-convert');\n",
              "        buttonEl.style.display =\n",
              "          google.colab.kernel.accessAllowed ? 'block' : 'none';\n",
              "\n",
              "        async function convertToInteractive(key) {\n",
              "          const element = document.querySelector('#df-15bdf3c9-5faf-42ab-92d7-2196bcdcb72e');\n",
              "          const dataTable =\n",
              "            await google.colab.kernel.invokeFunction('convertToInteractive',\n",
              "                                                     [key], {});\n",
              "          if (!dataTable) return;\n",
              "\n",
              "          const docLinkHtml = 'Like what you see? Visit the ' +\n",
              "            '<a target=\"_blank\" href=https://colab.research.google.com/notebooks/data_table.ipynb>data table notebook</a>'\n",
              "            + ' to learn more about interactive tables.';\n",
              "          element.innerHTML = '';\n",
              "          dataTable['output_type'] = 'display_data';\n",
              "          await google.colab.output.renderOutput(dataTable, element);\n",
              "          const docLink = document.createElement('div');\n",
              "          docLink.innerHTML = docLinkHtml;\n",
              "          element.appendChild(docLink);\n",
              "        }\n",
              "      </script>\n",
              "    </div>\n",
              "  </div>\n",
              "  "
            ],
            "text/plain": [
              "         grants_ip2_documents  ...           query\n",
              "date                           ...                \n",
              "1988-03                   NaN  ...  nanotechnology\n",
              "1991-10                   NaN  ...  nanotechnology\n",
              "1992-03                   NaN  ...  nanotechnology\n",
              "1992-07                   NaN  ...  nanotechnology\n",
              "1992-08                   NaN  ...  nanotechnology\n",
              "...                       ...  ...             ...\n",
              "2021-07                   2.0  ...  nanotechnology\n",
              "2021-09                   3.0  ...  nanotechnology\n",
              "2022-12                   1.0  ...  nanotechnology\n",
              "2024-12                   2.0  ...  nanotechnology\n",
              "2025-12                   3.0  ...  nanotechnology\n",
              "\n",
              "[322 rows x 7 columns]"
            ]
          },
          "metadata": {}
        },
        {
          "output_type": "stream",
          "name": "stdout",
          "text": [
            "CPU times: user 387 ms, sys: 24.3 ms, total: 411 ms\n",
            "Wall time: 4.21 s\n"
          ]
        },
        {
          "output_type": "display_data",
          "data": {
            "image/png": "[encoded data removed]",
            "text/plain": [
              "<Figure size 1800x360 with 1 Axes>"
            ]
          },
          "metadata": {
            "needs_background": "light"
          }
        }
      ],
      "source": [
        "%%time\n",
        "q = 'nanotechnology'\n",
        "\n",
        "df = get_monthly_all_cores(q)\n",
        "display(df)\n",
        "\n",
        "plt.rcParams[\"figure.figsize\"] = (25,5)\n",
        "df.plot()"
      ]
    },
    {
      "cell_type": "markdown",
      "metadata": {
        "id": "Fklsf2FkXnG7"
      },
      "source": [
        "# Null analysis"
      ]
    },
    {
      "cell_type": "code",
      "execution_count": null,
      "metadata": {
        "colab": {
          "base_uri": "https://localhost:8080/"
        },
        "id": "_mMEBwfBUlKY",
        "outputId": "ab7534ef-5a23-44ef-f92b-a941e4171e55"
      },
      "outputs": [
        {
          "output_type": "stream",
          "name": "stdout",
          "text": [
            "grants_ip2: null count: 39.05% [198/507]\n",
            "funded_projects_marvin: null count: 58.40% [2495/4272]\n",
            "patents-ep: null count: 0.00% [0/5162]\n",
            "patents-other: null count: 0.00% [0/1845]\n",
            "patents-pc: null count: 0.00% [0/14328]\n",
            "lens_papers: null count: 49.72% [2204/4433]\n"
          ]
        }
      ],
      "source": [
        "q = 'nanotechnology'\n",
        "\n",
        "for dataset in datasets:\n",
        "  for core in datasets[dataset]:\n",
        "    result = get_documents(q, core)\n",
        "    df = pd.DataFrame(result)\n",
        "    df.columns = ['date']\n",
        "\n",
        "    print('{}: null count: {:.2f}% [{}/{}]'.format(core, df['date'].isnull().sum() / df.shape[0] * 100, df['date'].isnull().sum(), df.shape[0]))"
      ]
    },
    {
      "cell_type": "markdown",
      "metadata": {
        "id": "e2ZBan3ipDAb"
      },
      "source": [
        "## Get text data"
      ]
    },
    {
      "cell_type": "code",
      "source": [
        "def get_query_count(q, dataset):\n",
        "  url = f'http://35.223.230.190:8983/solr/{dataset}/select?indent=on&q={q}&rows=0&wt=json'\n",
        "  r = requests.get(url, auth=HTTPBasicAuth(usr, pwd))\n",
        "  result = r.json()\n",
        "  return result['response']['numFound']\n",
        "\n",
        "\n",
        "\n",
        "def get_documents(q, dataset):\n",
        "  total_documents = get_query_count(q, dataset)\n",
        "\n",
        "  url = f'http://35.223.230.190:8983/solr/{dataset}/select?indent=on&q={q}&fl={fields}&rows={total_documents}&wt=json'\n",
        "  r = requests.get(url, auth=HTTPBasicAuth(usr, pwd))\n",
        "\n",
        "  result = r.json()\n",
        "\n",
        "  result = result['response']['docs']\n",
        "\n",
        "  return result"
      ],
      "metadata": {
        "id": "G0TdCANkH9sb"
      },
      "execution_count": null,
      "outputs": []
    },
    {
      "cell_type": "markdown",
      "source": [
        "# Create sectors and queries from the projects dataset"
      ],
      "metadata": {
        "id": "pjQBIxNHXZhg"
      }
    },
    {
      "cell_type": "code",
      "source": [
        "q = '*'  # query '*' to get all\n",
        "\n",
        "fields = ['fields_of_study', 'source_asjc_subjects']  # fields to extract, all dates are in the config section\n",
        "fields = ','.join(fields)\n",
        "\n",
        "results = get_documents(q, 'lens_papers')\n",
        "print('found: {}'.format(len(results)))"
      ],
      "metadata": {
        "id": "RmYs0KMonqmG",
        "colab": {
          "base_uri": "https://localhost:8080/"
        },
        "outputId": "0f0f749f-b3f2-4986-f7af-6621efc0ea65"
      },
      "execution_count": null,
      "outputs": [
        {
          "output_type": "stream",
          "name": "stdout",
          "text": [
            "found: 4710224\n"
          ]
        }
      ]
    },
    {
      "cell_type": "code",
      "source": [
        "out = []\n",
        "for result in results:\n",
        "  if result:\n",
        "    out.append(result)\n",
        "\n",
        "print('Non null records for selected fields: {}'.format(len(out)))"
      ],
      "metadata": {
        "id": "89LAdk9bpk7q",
        "colab": {
          "base_uri": "https://localhost:8080/"
        },
        "outputId": "9a6eed26-482f-4c87-d3f7-f06588293cb8"
      },
      "execution_count": null,
      "outputs": [
        {
          "output_type": "stream",
          "name": "stdout",
          "text": [
            "Non null records for selected fields: 4354143\n"
          ]
        }
      ]
    },
    {
      "cell_type": "code",
      "source": [
        "df = pd.DataFrame(out)\n",
        "df"
      ],
      "metadata": {
        "id": "Twu10eqHr-6z",
        "outputId": "48d35ad6-21f3-4e6f-e10b-e97b6ef6cd52",
        "colab": {
          "base_uri": "https://localhost:8080/",
          "height": 424
        }
      },
      "execution_count": null,
      "outputs": [
        {
          "output_type": "execute_result",
          "data": {
            "text/html": [
              "\n",
              "  <div id=\"df-db152b0f-94a1-4edf-aa4f-4e46b74c8fe3\">\n",
              "    <div class=\"colab-df-container\">\n",
              "      <div>\n",
              "<style scoped>\n",
              "    .dataframe tbody tr th:only-of-type {\n",
              "        vertical-align: middle;\n",
              "    }\n",
              "\n",
              "    .dataframe tbody tr th {\n",
              "        vertical-align: top;\n",
              "    }\n",
              "\n",
              "    .dataframe thead th {\n",
              "        text-align: right;\n",
              "    }\n",
              "</style>\n",
              "<table border=\"1\" class=\"dataframe\">\n",
              "  <thead>\n",
              "    <tr style=\"text-align: right;\">\n",
              "      <th></th>\n",
              "      <th>fields_of_study</th>\n",
              "      <th>source_asjc_subjects</th>\n",
              "    </tr>\n",
              "  </thead>\n",
              "  <tbody>\n",
              "    <tr>\n",
              "      <th>0</th>\n",
              "      <td>[Thermal spraying, Metallurgy, Materials scien...</td>\n",
              "      <td>NaN</td>\n",
              "    </tr>\n",
              "    <tr>\n",
              "      <th>1</th>\n",
              "      <td>[Biomass (ecology), Invertebrate, Respiration,...</td>\n",
              "      <td>NaN</td>\n",
              "    </tr>\n",
              "    <tr>\n",
              "      <th>2</th>\n",
              "      <td>[Hexagonal crystal system, Lattice (order), Ma...</td>\n",
              "      <td>NaN</td>\n",
              "    </tr>\n",
              "    <tr>\n",
              "      <th>3</th>\n",
              "      <td>[Magnetic field, Physics, Position (vector), V...</td>\n",
              "      <td>NaN</td>\n",
              "    </tr>\n",
              "    <tr>\n",
              "      <th>4</th>\n",
              "      <td>[Air permeability specific surface, Polyester,...</td>\n",
              "      <td>NaN</td>\n",
              "    </tr>\n",
              "    <tr>\n",
              "      <th>...</th>\n",
              "      <td>...</td>\n",
              "      <td>...</td>\n",
              "    </tr>\n",
              "    <tr>\n",
              "      <th>4354138</th>\n",
              "      <td>[Climate change, Minamata Convention on Mercur...</td>\n",
              "      <td>NaN</td>\n",
              "    </tr>\n",
              "    <tr>\n",
              "      <th>4354139</th>\n",
              "      <td>NaN</td>\n",
              "      <td>[Astronomy and Astrophysics, Space and Planeta...</td>\n",
              "    </tr>\n",
              "    <tr>\n",
              "      <th>4354140</th>\n",
              "      <td>[Epidemiology, Cross-sectional study, Demograp...</td>\n",
              "      <td>[General Medicine, Epidemiology]</td>\n",
              "    </tr>\n",
              "    <tr>\n",
              "      <th>4354141</th>\n",
              "      <td>[Fermentation, Biosorption, Cadmium chloride, ...</td>\n",
              "      <td>[Health, Toxicology and Mutagenesis, Environme...</td>\n",
              "    </tr>\n",
              "    <tr>\n",
              "      <th>4354142</th>\n",
              "      <td>[Ecotoxicology, Internal medicine, Endocrinolo...</td>\n",
              "      <td>[Health, Toxicology and Mutagenesis, Environme...</td>\n",
              "    </tr>\n",
              "  </tbody>\n",
              "</table>\n",
              "<p>4354143 rows × 2 columns</p>\n",
              "</div>\n",
              "      <button class=\"colab-df-convert\" onclick=\"convertToInteractive('df-db152b0f-94a1-4edf-aa4f-4e46b74c8fe3')\"\n",
              "              title=\"Convert this dataframe to an interactive table.\"\n",
              "              style=\"display:none;\">\n",
              "        \n",
              "  <svg xmlns=\"http://www.w3.org/2000/svg\" height=\"24px\"viewBox=\"0 0 24 24\"\n",
              "       width=\"24px\">\n",
              "    <path d=\"M0 0h24v24H0V0z\" fill=\"none\"/>\n",
              "    <path d=\"M18.56 5.44l.94 2.06.94-2.06 2.06-.94-2.06-.94-.94-2.06-.94 2.06-2.06.94zm-11 1L8.5 8.5l.94-2.06 2.06-.94-2.06-.94L8.5 2.5l-.94 2.06-2.06.94zm10 10l.94 2.06.94-2.06 2.06-.94-2.06-.94-.94-2.06-.94 2.06-2.06.94z\"/><path d=\"M17.41 7.96l-1.37-1.37c-.4-.4-.92-.59-1.43-.59-.52 0-1.04.2-1.43.59L10.3 9.45l-7.72 7.72c-.78.78-.78 2.05 0 2.83L4 21.41c.39.39.9.59 1.41.59.51 0 1.02-.2 1.41-.59l7.78-7.78 2.81-2.81c.8-.78.8-2.07 0-2.86zM5.41 20L4 18.59l7.72-7.72 1.47 1.35L5.41 20z\"/>\n",
              "  </svg>\n",
              "      </button>\n",
              "      \n",
              "  <style>\n",
              "    .colab-df-container {\n",
              "      display:flex;\n",
              "      flex-wrap:wrap;\n",
              "      gap: 12px;\n",
              "    }\n",
              "\n",
              "    .colab-df-convert {\n",
              "      background-color: #E8F0FE;\n",
              "      border: none;\n",
              "      border-radius: 50%;\n",
              "      cursor: pointer;\n",
              "      display: none;\n",
              "      fill: #1967D2;\n",
              "      height: 32px;\n",
              "      padding: 0 0 0 0;\n",
              "      width: 32px;\n",
              "    }\n",
              "\n",
              "    .colab-df-convert:hover {\n",
              "      background-color: #E2EBFA;\n",
              "      box-shadow: 0px 1px 2px rgba(60, 64, 67, 0.3), 0px 1px 3px 1px rgba(60, 64, 67, 0.15);\n",
              "      fill: #174EA6;\n",
              "    }\n",
              "\n",
              "    [theme=dark] .colab-df-convert {\n",
              "      background-color: #3B4455;\n",
              "      fill: #D2E3FC;\n",
              "    }\n",
              "\n",
              "    [theme=dark] .colab-df-convert:hover {\n",
              "      background-color: #434B5C;\n",
              "      box-shadow: 0px 1px 3px 1px rgba(0, 0, 0, 0.15);\n",
              "      filter: drop-shadow(0px 1px 2px rgba(0, 0, 0, 0.3));\n",
              "      fill: #FFFFFF;\n",
              "    }\n",
              "  </style>\n",
              "\n",
              "      <script>\n",
              "        const buttonEl =\n",
              "          document.querySelector('#df-db152b0f-94a1-4edf-aa4f-4e46b74c8fe3 button.colab-df-convert');\n",
              "        buttonEl.style.display =\n",
              "          google.colab.kernel.accessAllowed ? 'block' : 'none';\n",
              "\n",
              "        async function convertToInteractive(key) {\n",
              "          const element = document.querySelector('#df-db152b0f-94a1-4edf-aa4f-4e46b74c8fe3');\n",
              "          const dataTable =\n",
              "            await google.colab.kernel.invokeFunction('convertToInteractive',\n",
              "                                                     [key], {});\n",
              "          if (!dataTable) return;\n",
              "\n",
              "          const docLinkHtml = 'Like what you see? Visit the ' +\n",
              "            '<a target=\"_blank\" href=https://colab.research.google.com/notebooks/data_table.ipynb>data table notebook</a>'\n",
              "            + ' to learn more about interactive tables.';\n",
              "          element.innerHTML = '';\n",
              "          dataTable['output_type'] = 'display_data';\n",
              "          await google.colab.output.renderOutput(dataTable, element);\n",
              "          const docLink = document.createElement('div');\n",
              "          docLink.innerHTML = docLinkHtml;\n",
              "          element.appendChild(docLink);\n",
              "        }\n",
              "      </script>\n",
              "    </div>\n",
              "  </div>\n",
              "  "
            ],
            "text/plain": [
              "                                           fields_of_study                               source_asjc_subjects\n",
              "0        [Thermal spraying, Metallurgy, Materials scien...                                                NaN\n",
              "1        [Biomass (ecology), Invertebrate, Respiration,...                                                NaN\n",
              "2        [Hexagonal crystal system, Lattice (order), Ma...                                                NaN\n",
              "3        [Magnetic field, Physics, Position (vector), V...                                                NaN\n",
              "4        [Air permeability specific surface, Polyester,...                                                NaN\n",
              "...                                                    ...                                                ...\n",
              "4354138  [Climate change, Minamata Convention on Mercur...                                                NaN\n",
              "4354139                                                NaN  [Astronomy and Astrophysics, Space and Planeta...\n",
              "4354140  [Epidemiology, Cross-sectional study, Demograp...                   [General Medicine, Epidemiology]\n",
              "4354141  [Fermentation, Biosorption, Cadmium chloride, ...  [Health, Toxicology and Mutagenesis, Environme...\n",
              "4354142  [Ecotoxicology, Internal medicine, Endocrinolo...  [Health, Toxicology and Mutagenesis, Environme...\n",
              "\n",
              "[4354143 rows x 2 columns]"
            ]
          },
          "metadata": {},
          "execution_count": 58
        }
      ]
    },
    {
      "cell_type": "code",
      "source": [
        "fields = []\n",
        "\n",
        "f_list = df['fields_of_study'].dropna().tolist()\n",
        "\n",
        "for l in tqdm(f_list):\n",
        "  for f in l:\n",
        "    fields.append(f)\n",
        "\n",
        "fields = set(fields)\n",
        "\n",
        "print('fields_of_study unique: {}\\n{}'.format(len(fields), fields))"
      ],
      "metadata": {
        "colab": {
          "base_uri": "https://localhost:8080/"
        },
        "id": "rVfxekXlTu9Z",
        "outputId": "f3a63ccc-f57c-482f-d10d-06fea12fa2f2"
      },
      "execution_count": null,
      "outputs": [
        {
          "output_type": "stream",
          "name": "stderr",
          "text": [
            "100%|██████████| 4074042/4074042 [00:06<00:00, 597447.88it/s]IOPub data rate exceeded.\n",
            "The notebook server will temporarily stop sending output\n",
            "to the client in order to avoid crashing it.\n",
            "To change this limit, set the config variable\n",
            "`--NotebookApp.iopub_data_rate_limit`.\n",
            "\n",
            "Current values:\n",
            "NotebookApp.iopub_data_rate_limit=1000000.0 (bytes/sec)\n",
            "NotebookApp.rate_limit_window=3.0 (secs)\n",
            "\n",
            "\n"
          ]
        }
      ]
    },
    {
      "cell_type": "code",
      "source": [
        "print('fields_of_study unique: {}'.format(len(fields)))\n",
        "print(list(fields)[:200])"
      ],
      "metadata": {
        "colab": {
          "base_uri": "https://localhost:8080/"
        },
        "id": "2nwHIadDa_Ts",
        "outputId": "b2d80dd0-8aa1-4341-9a5c-7e02502fa5bd"
      },
      "execution_count": null,
      "outputs": [
        {
          "output_type": "stream",
          "name": "stdout",
          "text": [
            "fields_of_study unique: 247194\n",
            "['Galium spurium', 'Detrended fluctuation analysis', 'Metalloprotein', 'Obestatin', 'Tumor angiogenesis', 'Piptatheropsis', 'Watt second', 'Wifi network', 'Discorbis', 'Stroop effect', 'Tmj dysfunction', 'CW Doppler', 'X-linked adrenal hypoplasia congenita', 'Nursing shortage', 'Af ablation', 'Adrenocortical adenoma', 'Verification bias', 'Subtractive color', 'Diffusive conductance', 'Apeltes quadracus', 'Law of sines', 'Shifting attention', 'Water discharge', 'Phymatolithon repandum', 'Synaptula', 'Urologic Surgical Procedure', '2-(5-bromo-2-pyridylazo)-5-diethylaminophenol', 'Alloy coating', 'Viscous boundary layer', 'Medial cortex', 'L-Deprenyl', 'Rasa shastra', 'Symmetry operation', 'Young tree', 'Selectivity', 'Isotope fractionation', 'Anti-corrosion', 'Natural dye', 'Humantenmine', 'Pruritus vulvae', 'Ecological agriculture', 'Analog high-definition television system', 'Induced gamma emission', 'Satellite payload', 'Direct borohydride fuel cell', 'Law of large numbers', 'Lepidolite', 'Gesture classification', 'Dextrose Monohydrate', 'Hybrid physical-chemical vapor deposition', 'International investment', 'Program logic', 'Dwdm transmission', 'Adjustment disorders', 'TRNA transport', 'Fuzzy cognitive mapping', 'Erythrocyte sedimentation', 'Media access', 'Rhizomucor', 'Combination Package', 'Mertensia ciliata', 'Chelatococcus', 'Polywater', 'Hierarchy of hazard control', 'Moderate inflammation', 'Expanded Disability Status Scale', 'Phosphorus cycle', 'Tubal factor infertility', 'Rational ignorance', 'Amorphous calcium carbonate', 'Bismuthinite', 'Aconitum pendulum', 'Perfluoroctylbromide', 'Sertraline', 'Semiconductor components', 'Diffuse alopecia', 'Dolichopus', 'Dataflow', 'Chromatophore', 'Sound transmission class', 'mTORC2', 'Alicyclobacillus sendaiensis', 'Ti6al4v alloy', 'Touch switch', 'Luminiphilus syltensis', 'Design by analogy', 'Ton of refrigeration', 'Conference key', 'Actinic granuloma', 'Crater counting', 'Two dimensional crystal', '3-Aminopyridine-2-carboxaldehyde thiosemicarbazone', 'Herniaria hirsuta', 'Autographa', 'Paeoniae Radix', 'Therapeutic effect', 'Mark I', 'Library instruction', 'Anti hypertensive drug', 'Malignant soft tissue tumors', 'Elastin like polypeptides', 'Certified Nurse Specialist', 'High Luminosity Large Hadron Collider', 'Population based', 'Iodine goiter', 'Economic growth', 'β adrenergic receptor', \"States' rights\", 'Kresoxim-methyl', 'Thunnus sp.', 'Increased Basal Metabolic Rate', 'Glomerella cingulata', 'Sister group', 'Haloalkane', 'Beta lactam antibiotics', 'Lower Paleolithic', 'Tenofovir', 'Mortality index', 'Double crystal', 'Growth of knowledge', 'Student loan', 'Advanced oxidation protein products', 'Genital Rhabdomyoma', 'Propagation delay', 'Acyl glucuronide', 'Heuristic (computer science)', 'Aphis craccivora', 'Mercantilism', 'Succinonitrile', 'Salacia reticulata', 'Chain store', 'Bergman space', 'One bead one compound', 'Command and control regulation', 'Interactive governance', 'Backstepping', 'Triethyltin Compounds', 'Anabaena oscillarioides', 'Dual fluid reactor', 'Growth cone', 'Motion editing', 'Coupling reagent', 'Tumor Process', 'Linear A', 'Ocean wave height', 'Gastric body', 'Holey fiber', 'Post-Traumatic Headache', 'Alinidine', 'Amadori rearrangement', 'Chromosomal dna', 'Modified nucleosides', 'Gamma ray detectors', 'Daughterboard', 'Betaine-aldehyde dehydrogenase activity', 'Diabetic myonecrosis', 'Power electronics circuits', 'Nuclear factor I', 'Sham group', 'Dietary recall', 'Totally integrated automation', 'Splenic lymphocyte', 'Christian philosophy', 'Phyllodocida', 'Methylamine', 'Toco toucan', 'Susceptibility gene', 'Minimalism (computing)', 'Virtual firewall', 'Eubacterium limosum', 'One time programmable', 'Safflower extract', 'Bipyridine', 'Low Grade Intraepithelial Neoplasia', 'Psychosocial support', 'Uplc q tof ms', 'Vessel perforation', 'Natalizumab', 'First generation biofuels', 'Translational enhancer', 'Persistent omphalomesenteric duct', 'Expired air', 'Graph parsing', 'Fractional distillation', 'Glutathione reductase', 'Tropomodulin 4', 'Tripe palms', 'GRB 011211', '3-bromopyridine', 'Water resource planning', 'Gravel pit', 'Control rod', 'Octocorallia', 'Young Mania Rating Scale', 'Transperitoneal approach', 'Time stress', 'Oral rehydration solutions', 'Plant Dispersal', 'Functional recovery', 'Thermocyclops oithonoides']\n"
          ]
        }
      ]
    },
    {
      "cell_type": "code",
      "source": [
        "asjcs = []\n",
        "\n",
        "f_list = df['source_asjc_subjects'].dropna().tolist()\n",
        "\n",
        "for l in tqdm(f_list):\n",
        "  for f in l:\n",
        "    asjcs.append(f)\n",
        "\n",
        "asjcs = set(asjcs)\n",
        "\n",
        "print('source_asjc_subjects unique: {}\\n{}'.format(len(asjcs), asjcs))"
      ],
      "metadata": {
        "colab": {
          "base_uri": "https://localhost:8080/"
        },
        "id": "HfcwsIvYWxYA",
        "outputId": "d984b000-7faa-4d4d-84bb-22fbee0c64d6"
      },
      "execution_count": null,
      "outputs": [
        {
          "output_type": "stream",
          "name": "stderr",
          "text": [
            "100%|██████████| 2360732/2360732 [00:02<00:00, 1034356.37it/s]"
          ]
        },
        {
          "output_type": "stream",
          "name": "stdout",
          "text": [
            "source_asjc_subjects unique: 331\n",
            "{'Sensory Systems', 'Dental Hygiene', 'Biochemistry', 'Structural Biology', 'Social Sciences (miscellaneous)', 'Atomic and Molecular Physics, and Optics', 'Statistics, Probability and Uncertainty', 'Astronomy and Astrophysics', 'Occupational Therapy', 'Neuropsychology and Physiological Psychology', 'Management, Monitoring, Policy and Law', 'Transportation', 'Chemistry (miscellaneous)', 'Architecture ', 'Orthodontics', 'General Materials Science', 'Logic', 'Nursing (miscellaneous)', 'Decision Sciences (miscellaneous)', 'Reviews and References, Medical', 'General Computer Science', 'Health Professions (miscellaneous)', 'Urban Studies', 'Pharmacology, Toxicology and Pharmaceutics (miscellaneous)', 'Phychiatric Mental Health', 'Museology', 'Signal Processing', 'Mathematical Physics', 'Medical Laboratory Technology', 'Hematology', 'Plant Science', 'Catalysis', 'Public Administration', 'General Dentistry', 'Pediatrics, Perinatology, and Child Health', 'Oceanography', 'Industrial relations', 'Communication', 'Biophysics', 'Economic Geology', 'Agricultural and Biological Sciences (miscellaneous)', 'Pharmacology (nursing)', 'Economics, Econometrics and Finance (miscellaneous)', 'Genetics(clinical)', 'Biochemistry, medical', 'Psychiatry and Mental health', 'Business, Management and Accounting (miscellaneous)', 'Oncology', 'Embryology', 'Inorganic Chemistry', 'Periodontics', 'Artificial Intelligence', 'Soil Science', 'Biomedical Engineering', 'Biological Psychiatry', 'Anatomy', 'Medical Assisting and Transcription', 'Equine', 'Epidemiology', 'Cultural Studies', 'Renewable Energy, Sustainability and the Environment', 'Transplantation', 'Public Health, Environmental and Occupational Health', 'Classics', 'Education', 'General Medicine', 'Electrochemistry', 'Ageing', 'Advanced and Specialised Nursing', 'Food Science', 'Health Policy', 'Energy Engineering and Power Technology', 'Complementary and Manual Therapy', 'Marketing', 'Fuel Technology', 'Acoustics and Ultrasonics', 'Management of Technology and Innovation', 'Gerontology', 'Condensed Matter Physics', 'Microbiology', 'Spectroscopy', 'General Neuroscience', 'Dermatology', 'Information Systems and Management', 'Applied Psychology', 'General Chemical Engineering', 'Virology', 'Cell Biology', 'Rehabilitation', 'Waste Management and Disposal', 'Assessment and Diagnosis', 'Computer Networks and Communications', 'Mechanics of Materials', 'Ecological Modelling', 'Materials Chemistry', 'Surfaces, Coatings and Films', 'Computers in Earth Sciences', 'Pharmacy', 'Infectious Diseases', 'General Energy', 'Veterinary (miscalleneous)', 'General Immunology and Microbiology', 'Development', 'Computer Science Applications', 'Small Animals', 'Agronomy and Crop Science', 'General Earth and Planetary Sciences', 'Visual Arts and Performing Arts', 'Care Planning', 'Physics and Astronomy (miscellaneous)', 'Theoretical Computer Science', 'Cognitive Neuroscience', 'Computer Science (miscellaneous)', 'Pollution', 'Molecular Medicine', 'Internal Medicine', 'Critical Care', 'Civil and Structural Engineering', 'Business and International Management', 'Forestry', 'General Business, Management and Accounting', 'Life-span and Life-course Studies', 'Neuroscience (miscellaneous)', 'Chemical Health and Safety', 'Organic Chemistry', 'Research and Theory', 'Analytical Chemistry', 'Computational Mechanics', 'Social Psychology', 'Oral Surgery', 'Biotechnology', 'Computer Graphics and Computer-Aided Design', 'Computational Theory and Mathematics', 'General Biochemistry, Genetics and Molecular Biology', 'Safety Research', 'Nephrology', 'Religious studies', 'Insect Science', 'Political Science and International Relations', 'Orthopedics and Sports Medicine', 'Industrial and Manufacturing Engineering', 'Atmospheric Science', 'Pulmonary and Respiratory Medicine', 'Physical and Theoretical Chemistry', 'Drug guides', 'Hepatology', 'Software', 'General Veterinary', 'Materials Science (miscellaneous)', 'Water Science and Technology', 'Emergency Medicine', 'Control and Optimization', 'Review and Exam Preparation', 'Experimental and Cognitive Psychology', 'Physical Therapy, Sports Therapy and Rehabilitation', 'Computational Mathematics', 'Immunology and Microbiology (miscellaneous) ', 'Ecology, Evolution, Behavior and Systematics', 'Urology', 'Philosophy', 'Developmental Neuroscience', 'Critical Care and Intensive Care Medicine', 'Drug Discovery', 'Oncology(nursing)', 'Management Science and Operations Research', 'Literature and Literary Theory', 'Immunology and Allergy', 'Language and Linguistics', 'Surfaces and Interfaces', 'Radiation', 'Nuclear Energy and Engineering', 'Geography, Planning and Development', 'Parasitology', 'Pharmacology', 'Physiology (medical)', 'Human Factors and Ergonomics', 'Statistical and Nonlinear Physics', 'Clinical Psychology', 'Modelling and Simulation', 'Clinical Neurology', 'General Agricultural and Biological Sciences', 'Colloid and Surface Chemistry', 'Applied Microbiology and Biotechnology', 'Human-Computer Interaction', 'General Chemistry', 'Geochemistry and Petrology', 'Molecular Biology', 'General Arts and Humanities', 'Mechanical Engineering', 'Endocrine and Autonomic Systems', 'Food Animals', 'General Nursing', 'Nurse Assisting', 'Geophysics', 'Aerospace Engineering', 'Polymers and Plastics', 'Archaeology', 'General Economics, Econometrics and Finance', 'Immunology and Microbiology (miscellaneous)', 'Algebra and Number Theory', 'Arts and Humanities (miscellaneous)', 'Anthropology', 'Hardware and Architecture', 'Immunology', 'Endocrinology, Diabetes and Metabolism', 'General Decision Sciences', 'Statistics and Probability', 'Cellular and Molecular Neuroscience', 'Behavioral Neuroscience', 'Stratigraphy', 'Pathology and Forensic Medicine', 'Histology', 'Leadership and Management', 'Space and Planetary Science', 'Architecture', 'General Pharmacology, Toxicology and Pharmaceutics', 'Emergency', 'General Physics and Astronomy', 'Conservation', 'Economics and Econometrics', 'Instrumentation', 'Rheumatology', 'Dentistry (miscellaneous)', 'Earth and Planetary Sciences (miscellaneous)', 'Energy (miscellaneous)', 'Geotechnical Engineering and Engineering Geology', 'Numerical Analysis', 'Pharmacology (medical)', 'Animal Science and Zoology', 'Geometry and Topology', 'Ophthalmology', 'Demography', 'Medical–Surgical', 'Linguistics and Language', 'Health Informatics', 'Mathematics (miscellaneous)', 'Environmental Engineering', 'Microbiology (medical)', 'General Mathematics', 'Electrical and Electronic Engineering', 'Geology', 'Developmental and Educational Psychology', 'Management Information Systems', 'Toxicology', 'Library and Information Sciences', 'Information Systems', 'Applied Mathematics', 'Nutrition and Dietetics', 'Horticulture', 'Neurology', 'General Health Professions', 'Geriatrics and Gerontology', 'Chemical Engineering (miscellaneous)', 'General Social Sciences', 'Gender Studies', 'Automotive Engineering', 'Developmental Biology', 'Multidisciplinary', 'History and Philosophy of Science', 'Process Chemistry and Technology', 'Environmental Science (miscellaneous)', 'Clinical Biochemistry', 'General Engineering', 'Analysis', 'Strategy and Management', 'Discrete Mathematics and Combinatorics', 'Bioengineering', 'Ecology', 'Fluid Flow and Transfer Processes', 'Media Technology', 'Filtration and Separation', 'Earth-Surface Processes', 'Fundamentals and skills', 'Optometry', 'Nature and Landscape Conservation', 'Endocrinology', 'Law', 'Engineering (miscellaneous)', 'Podiatry', 'Ceramics and Composites', 'Physiology', 'Family Practice', 'Health Information Management', 'Safety, Risk, Reliability and Quality', 'Palaeontology', 'Radiological and Ultrasound Technology', 'General Psychology', 'Psychology (miscellaneous)', 'History', 'Pediatrics', 'Aquatic Science', 'Community and Home Care', 'General Environmental Science', 'Pharmaceutical Science', 'Finance', 'Reproductive Medicine', 'Biomaterials', 'Sociology and Political Science', 'Accounting', 'Complementary and alternative medicine', 'Biochemistry, Genetics and Molecular Biology (miscellaneous)', 'Health, Toxicology and Mutagenesis', 'Medicine (miscellaneous)', 'Surgery', 'Organizational Behavior and Human Resource Management', 'Electronic, Optical and Magnetic Materials', 'Radiology Nuclear Medicine and imaging', 'Control and Systems Engineering', 'Ocean Engineering', 'Health(social science)', 'Nuclear and High Energy Physics', 'Tourism, Leisure and Hospitality Management', 'Maternity and Midwifery', 'Obstetrics and Gynaecology', 'Speech and Hearing', 'Otorhinolaryngology', 'Cardiology and Cardiovascular Medicine', 'Issues, ethics and legal aspects', 'Metals and Alloys', 'Anesthesiology and Pain Medicine', 'Computer Vision and Pattern Recognition', 'Chiropractics', 'Building and Construction', 'Emergency Medical Services', 'Cancer Research', 'Genetics', 'Music', 'LPN and LVN', 'Gastroenterology', 'Global and Planetary Change', 'Environmental Chemistry'}\n"
          ]
        },
        {
          "output_type": "stream",
          "name": "stderr",
          "text": [
            "\n"
          ]
        }
      ]
    },
    {
      "cell_type": "code",
      "source": [
        "df.dropna()"
      ],
      "metadata": {
        "colab": {
          "base_uri": "https://localhost:8080/",
          "height": 424
        },
        "id": "sPJvo1a6bjn3",
        "outputId": "5b3b69ab-a34c-4184-bb4a-e3310ea77716"
      },
      "execution_count": null,
      "outputs": [
        {
          "output_type": "execute_result",
          "data": {
            "text/html": [
              "\n",
              "  <div id=\"df-0c59c537-8fe0-489d-a9ea-3fcfb041b3d6\">\n",
              "    <div class=\"colab-df-container\">\n",
              "      <div>\n",
              "<style scoped>\n",
              "    .dataframe tbody tr th:only-of-type {\n",
              "        vertical-align: middle;\n",
              "    }\n",
              "\n",
              "    .dataframe tbody tr th {\n",
              "        vertical-align: top;\n",
              "    }\n",
              "\n",
              "    .dataframe thead th {\n",
              "        text-align: right;\n",
              "    }\n",
              "</style>\n",
              "<table border=\"1\" class=\"dataframe\">\n",
              "  <thead>\n",
              "    <tr style=\"text-align: right;\">\n",
              "      <th></th>\n",
              "      <th>fields_of_study</th>\n",
              "      <th>source_asjc_subjects</th>\n",
              "    </tr>\n",
              "  </thead>\n",
              "  <tbody>\n",
              "    <tr>\n",
              "      <th>7</th>\n",
              "      <td>[Air conditioning, Engineering, Daylight, Nois...</td>\n",
              "      <td>[General Engineering]</td>\n",
              "    </tr>\n",
              "    <tr>\n",
              "      <th>12</th>\n",
              "      <td>[Fabrication, Chemical composition, Particle s...</td>\n",
              "      <td>[Metals and Alloys, General Chemical Engineeri...</td>\n",
              "    </tr>\n",
              "    <tr>\n",
              "      <th>13</th>\n",
              "      <td>[Physics, Nusselt number, Grashof number, Equi...</td>\n",
              "      <td>[Condensed Matter Physics, Mechanical Engineer...</td>\n",
              "    </tr>\n",
              "    <tr>\n",
              "      <th>14</th>\n",
              "      <td>[Analytical chemistry, Infrared spectroscopy, ...</td>\n",
              "      <td>[Energy Engineering and Power Technology, Fuel...</td>\n",
              "    </tr>\n",
              "    <tr>\n",
              "      <th>17</th>\n",
              "      <td>[Analytical chemistry, Chemistry, Atmospheric ...</td>\n",
              "      <td>[General Engineering, General Physics and Astr...</td>\n",
              "    </tr>\n",
              "    <tr>\n",
              "      <th>...</th>\n",
              "      <td>...</td>\n",
              "      <td>...</td>\n",
              "    </tr>\n",
              "    <tr>\n",
              "      <th>4354135</th>\n",
              "      <td>[Calcareous, Salinity, Leaching (agriculture),...</td>\n",
              "      <td>[Waste Management and Disposal, Water Science ...</td>\n",
              "    </tr>\n",
              "    <tr>\n",
              "      <th>4354136</th>\n",
              "      <td>[Environmental impact of pharmaceuticals and p...</td>\n",
              "      <td>[Health, Toxicology and Mutagenesis, Environme...</td>\n",
              "    </tr>\n",
              "    <tr>\n",
              "      <th>4354140</th>\n",
              "      <td>[Epidemiology, Cross-sectional study, Demograp...</td>\n",
              "      <td>[General Medicine, Epidemiology]</td>\n",
              "    </tr>\n",
              "    <tr>\n",
              "      <th>4354141</th>\n",
              "      <td>[Fermentation, Biosorption, Cadmium chloride, ...</td>\n",
              "      <td>[Health, Toxicology and Mutagenesis, Environme...</td>\n",
              "    </tr>\n",
              "    <tr>\n",
              "      <th>4354142</th>\n",
              "      <td>[Ecotoxicology, Internal medicine, Endocrinolo...</td>\n",
              "      <td>[Health, Toxicology and Mutagenesis, Environme...</td>\n",
              "    </tr>\n",
              "  </tbody>\n",
              "</table>\n",
              "<p>2080631 rows × 2 columns</p>\n",
              "</div>\n",
              "      <button class=\"colab-df-convert\" onclick=\"convertToInteractive('df-0c59c537-8fe0-489d-a9ea-3fcfb041b3d6')\"\n",
              "              title=\"Convert this dataframe to an interactive table.\"\n",
              "              style=\"display:none;\">\n",
              "        \n",
              "  <svg xmlns=\"http://www.w3.org/2000/svg\" height=\"24px\"viewBox=\"0 0 24 24\"\n",
              "       width=\"24px\">\n",
              "    <path d=\"M0 0h24v24H0V0z\" fill=\"none\"/>\n",
              "    <path d=\"M18.56 5.44l.94 2.06.94-2.06 2.06-.94-2.06-.94-.94-2.06-.94 2.06-2.06.94zm-11 1L8.5 8.5l.94-2.06 2.06-.94-2.06-.94L8.5 2.5l-.94 2.06-2.06.94zm10 10l.94 2.06.94-2.06 2.06-.94-2.06-.94-.94-2.06-.94 2.06-2.06.94z\"/><path d=\"M17.41 7.96l-1.37-1.37c-.4-.4-.92-.59-1.43-.59-.52 0-1.04.2-1.43.59L10.3 9.45l-7.72 7.72c-.78.78-.78 2.05 0 2.83L4 21.41c.39.39.9.59 1.41.59.51 0 1.02-.2 1.41-.59l7.78-7.78 2.81-2.81c.8-.78.8-2.07 0-2.86zM5.41 20L4 18.59l7.72-7.72 1.47 1.35L5.41 20z\"/>\n",
              "  </svg>\n",
              "      </button>\n",
              "      \n",
              "  <style>\n",
              "    .colab-df-container {\n",
              "      display:flex;\n",
              "      flex-wrap:wrap;\n",
              "      gap: 12px;\n",
              "    }\n",
              "\n",
              "    .colab-df-convert {\n",
              "      background-color: #E8F0FE;\n",
              "      border: none;\n",
              "      border-radius: 50%;\n",
              "      cursor: pointer;\n",
              "      display: none;\n",
              "      fill: #1967D2;\n",
              "      height: 32px;\n",
              "      padding: 0 0 0 0;\n",
              "      width: 32px;\n",
              "    }\n",
              "\n",
              "    .colab-df-convert:hover {\n",
              "      background-color: #E2EBFA;\n",
              "      box-shadow: 0px 1px 2px rgba(60, 64, 67, 0.3), 0px 1px 3px 1px rgba(60, 64, 67, 0.15);\n",
              "      fill: #174EA6;\n",
              "    }\n",
              "\n",
              "    [theme=dark] .colab-df-convert {\n",
              "      background-color: #3B4455;\n",
              "      fill: #D2E3FC;\n",
              "    }\n",
              "\n",
              "    [theme=dark] .colab-df-convert:hover {\n",
              "      background-color: #434B5C;\n",
              "      box-shadow: 0px 1px 3px 1px rgba(0, 0, 0, 0.15);\n",
              "      filter: drop-shadow(0px 1px 2px rgba(0, 0, 0, 0.3));\n",
              "      fill: #FFFFFF;\n",
              "    }\n",
              "  </style>\n",
              "\n",
              "      <script>\n",
              "        const buttonEl =\n",
              "          document.querySelector('#df-0c59c537-8fe0-489d-a9ea-3fcfb041b3d6 button.colab-df-convert');\n",
              "        buttonEl.style.display =\n",
              "          google.colab.kernel.accessAllowed ? 'block' : 'none';\n",
              "\n",
              "        async function convertToInteractive(key) {\n",
              "          const element = document.querySelector('#df-0c59c537-8fe0-489d-a9ea-3fcfb041b3d6');\n",
              "          const dataTable =\n",
              "            await google.colab.kernel.invokeFunction('convertToInteractive',\n",
              "                                                     [key], {});\n",
              "          if (!dataTable) return;\n",
              "\n",
              "          const docLinkHtml = 'Like what you see? Visit the ' +\n",
              "            '<a target=\"_blank\" href=https://colab.research.google.com/notebooks/data_table.ipynb>data table notebook</a>'\n",
              "            + ' to learn more about interactive tables.';\n",
              "          element.innerHTML = '';\n",
              "          dataTable['output_type'] = 'display_data';\n",
              "          await google.colab.output.renderOutput(dataTable, element);\n",
              "          const docLink = document.createElement('div');\n",
              "          docLink.innerHTML = docLinkHtml;\n",
              "          element.appendChild(docLink);\n",
              "        }\n",
              "      </script>\n",
              "    </div>\n",
              "  </div>\n",
              "  "
            ],
            "text/plain": [
              "                                           fields_of_study                               source_asjc_subjects\n",
              "7        [Air conditioning, Engineering, Daylight, Nois...                              [General Engineering]\n",
              "12       [Fabrication, Chemical composition, Particle s...  [Metals and Alloys, General Chemical Engineeri...\n",
              "13       [Physics, Nusselt number, Grashof number, Equi...  [Condensed Matter Physics, Mechanical Engineer...\n",
              "14       [Analytical chemistry, Infrared spectroscopy, ...  [Energy Engineering and Power Technology, Fuel...\n",
              "17       [Analytical chemistry, Chemistry, Atmospheric ...  [General Engineering, General Physics and Astr...\n",
              "...                                                    ...                                                ...\n",
              "4354135  [Calcareous, Salinity, Leaching (agriculture),...  [Waste Management and Disposal, Water Science ...\n",
              "4354136  [Environmental impact of pharmaceuticals and p...  [Health, Toxicology and Mutagenesis, Environme...\n",
              "4354140  [Epidemiology, Cross-sectional study, Demograp...                   [General Medicine, Epidemiology]\n",
              "4354141  [Fermentation, Biosorption, Cadmium chloride, ...  [Health, Toxicology and Mutagenesis, Environme...\n",
              "4354142  [Ecotoxicology, Internal medicine, Endocrinolo...  [Health, Toxicology and Mutagenesis, Environme...\n",
              "\n",
              "[2080631 rows x 2 columns]"
            ]
          },
          "metadata": {},
          "execution_count": 70
        }
      ]
    }
  ],
  "metadata": {
    "colab": {
      "collapsed_sections": [],
      "name": "025-lv-normalization-totals.ipynb",
      "toc_visible": true,
      "provenance": [],
      "authorship_tag": "ABX9TyOebGlDaDRN/UyAP/+bjecd",
      "include_colab_link": true
    },
    "kernelspec": {
      "display_name": "Python 3",
      "name": "python3"
    },
    "language_info": {
      "name": "python"
    }
  },
  "nbformat": 4,
  "nbformat_minor": 0
}